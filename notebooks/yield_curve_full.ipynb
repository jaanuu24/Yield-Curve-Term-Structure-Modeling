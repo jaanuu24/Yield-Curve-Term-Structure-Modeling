{
 "cells": [
  {
   "cell_type": "markdown",
   "id": "d8a9a7ab",
   "metadata": {},
   "source": [
    "# Yield Curve & Term Structure Modeling\n",
    "\n",
    "Full end-to-end workflow: ingestion, summary, fitting, performance evaluation, Monte Carlo scenarios, and scenario analysis."
   ]
  },
  {
   "cell_type": "code",
   "execution_count": null,
   "id": "bb222dcb",
   "metadata": {},
   "outputs": [],
   "source": [
    "import sys\n",
    "sys.path.append('../src')\n",
    "import pandas as pd\n",
    "import numpy as np\n",
    "from data_ingest import load_from_csv\n",
    "from model import fit_term_structure, monte_carlo_scenarios\n",
    "from utils import year_fraction, plot_term_structure\n",
    "import matplotlib.pyplot as plt"
   ]
  },
  {
   "cell_type": "markdown",
   "id": "9ab8ce56",
   "metadata": {},
   "source": [
    "## Data Ingestion & Overview"
   ]
  },
  {
   "cell_type": "code",
   "execution_count": null,
   "id": "afeaaa1f",
   "metadata": {},
   "outputs": [],
   "source": [
    "# Load data\n",
    "df = load_from_csv('../data/combined_yields.csv', parse_dates=['date'])\n",
    "# Preview\n",
    "display(df.head())"
   ]
  },
  {
   "cell_type": "markdown",
   "id": "0623bd82",
   "metadata": {},
   "source": [
    "### Summary statistics of raw yields"
   ]
  },
  {
   "cell_type": "code",
   "execution_count": null,
   "id": "93d02d63",
   "metadata": {},
   "outputs": [],
   "source": [
    "print(df[['yield_1y','yield_2y','yield_5y','yield_10y']].describe())"
   ]
  },
  {
   "cell_type": "markdown",
   "id": "69866a7a",
   "metadata": {},
   "source": [
    "## Fit Term Structure & Plot"
   ]
  },
  {
   "cell_type": "code",
   "execution_count": null,
   "id": "e3bc7375",
   "metadata": {},
   "outputs": [],
   "source": [
    "# Fit for latest date\n",
    "today = df['date'].max()\n",
    "slice_ = df[df['date']==today]\n",
    "cs = fit_term_structure(slice_['date'], slice_['yield_10y'])\n",
    "tenors = np.array([1,2,5,10])\n",
    "# Plot\n",
    "plot_term_structure(tenors, cs(tenors), title=f'Term Structure on {today.date()}')"
   ]
  },
  {
   "cell_type": "markdown",
   "id": "f713ec97",
   "metadata": {},
   "source": [
    "## Performance Evaluation (Backtest)"
   ]
  },
  {
   "cell_type": "code",
   "execution_count": null,
   "id": "5148bc96",
   "metadata": {},
   "outputs": [],
   "source": [
    "# Evaluate RMSE across history\n",
    "def rmse(actual, pred):\n",
    "    return np.sqrt(np.mean((actual - pred)**2))\n",
    "rmses = []\n",
    "for d, group in df.groupby('date'):\n",
    "    cs_temp = fit_term_structure(group['date'], group['yield_10y'])\n",
    "    preds = cs_temp(tenors)\n",
    "    actual = group[['yield_1y','yield_2y','yield_5y','yield_10y']].values.flatten()\n",
    "    # ensure matching lengths\n",
    "    rmses.append(rmse(actual, np.tile(preds, len(group))))\n",
    "print('Average RMSE across dates:', np.mean(rmses))"
   ]
  },
  {
   "cell_type": "markdown",
   "id": "36c5057f",
   "metadata": {},
   "source": [
    "## Monte Carlo Scenario Generation"
   ]
  },
  {
   "cell_type": "code",
   "execution_count": null,
   "id": "6fa4dcb1",
   "metadata": {},
   "outputs": [],
   "source": [
    "# Generate scenarios\n",
    "scenarios = monte_carlo_scenarios(cs, tenors, n_scenarios=500)\n",
    "scenario_df = pd.DataFrame(scenarios, columns=tenors)\n",
    "display(scenario_df.head())"
   ]
  },
  {
   "cell_type": "markdown",
   "id": "1335e1d4",
   "metadata": {},
   "source": [
    "### Scenario Summary Statistics"
   ]
  },
  {
   "cell_type": "code",
   "execution_count": null,
   "id": "a2956354",
   "metadata": {},
   "outputs": [],
   "source": [
    "summary = scenario_df.describe().T\n",
    "display(summary[['mean','std','5%','95%']])"
   ]
  },
  {
   "cell_type": "markdown",
   "id": "655380ed",
   "metadata": {},
   "source": [
    "### Scenario Distribution Visualization"
   ]
  },
  {
   "cell_type": "code",
   "execution_count": null,
   "id": "08503173",
   "metadata": {},
   "outputs": [],
   "source": [
    "plt.figure()\n",
    "plt.hist(scenarios[:, -1], bins=30)\n",
    "plt.title(f'Histogram of 10y Yield Scenarios on {today.date()}')\n",
    "plt.xlabel('Yield')\n",
    "plt.ylabel('Frequency')\n",
    "plt.show()"
   ]
  },
  {
   "cell_type": "markdown",
   "id": "576687ed",
   "metadata": {},
   "source": [
    "## Save Outputs"
   ]
  },
  {
   "cell_type": "code",
   "execution_count": null,
   "id": "b49c0bd4",
   "metadata": {},
   "outputs": [],
   "source": [
    "scenario_df.to_csv('../data/yield_scenarios_full.csv', index=False)\n",
    "print('Scenarios saved to ../data/yield_scenarios_full.csv')"
   ]
  }
 ],
 "metadata": {},
 "nbformat": 4,
 "nbformat_minor": 5
}
